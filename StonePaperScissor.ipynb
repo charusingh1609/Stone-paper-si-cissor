{
 "cells": [
  {
   "cell_type": "code",
   "execution_count": 1,
   "id": "06c1f996",
   "metadata": {},
   "outputs": [],
   "source": [
    "import random\n",
    "import re\n",
    "import os"
   ]
  },
  {
   "cell_type": "code",
   "execution_count": null,
   "id": "20856fdc",
   "metadata": {},
   "outputs": [
    {
     "name": "stdout",
     "output_type": "stream",
     "text": [
      "\n",
      "\n",
      "Rock, paper, Scissors-shoot!\n",
      "choose your weapon [R]ock,[p]aper], or [S]cissors: r\n",
      "You chose: r\n",
      "I chose: R\n",
      "Tie!\n",
      "\n",
      "\n",
      "Rock, paper, Scissors-shoot!\n",
      "choose your weapon [R]ock,[p]aper], or [S]cissors: R\n",
      "You chose: R\n",
      "I chose: p\n",
      "you win\n",
      "\n",
      "\n",
      "Rock, paper, Scissors-shoot!\n",
      "choose your weapon [R]ock,[p]aper], or [S]cissors: S\n",
      "You chose: S\n",
      "I chose: S\n",
      "Tie!\n",
      "\n",
      "\n",
      "Rock, paper, Scissors-shoot!\n",
      "choose your weapon [R]ock,[p]aper], or [S]cissors: p\n",
      "You chose: p\n",
      "I chose: p\n",
      "you win\n",
      "\n",
      "\n",
      "Rock, paper, Scissors-shoot!\n",
      "choose your weapon [R]ock,[p]aper], or [S]cissors: S\n",
      "You chose: S\n",
      "I chose: S\n",
      "Tie!\n",
      "\n",
      "\n",
      "Rock, paper, Scissors-shoot!\n",
      "choose your weapon [R]ock,[p]aper], or [S]cissors: R\n",
      "You chose: R\n",
      "I chose: S\n",
      "you win\n",
      "\n",
      "\n",
      "Rock, paper, Scissors-shoot!\n"
     ]
    }
   ],
   "source": [
    "os.system('cls' if os.name=='nt' else 'clear')\n",
    "while(1<2):\n",
    "    print (\"\\n\")\n",
    "    print(\"Rock, paper, Scissors-shoot!\")\n",
    "    userchoice= input(\"choose your weapon [R]ock,[p]aper], or [S]cissors: \")\n",
    "    if not re.match(\"[SsRrPp]\", userchoice):\n",
    "        print (\"Please choose a letter:\")\n",
    "        print(\"[r]ock, [S]cissors or [p]aper.\")\n",
    "        continue\n",
    "    #echo the users choice\n",
    "    print (\"You chose: \"+ userchoice)\n",
    "    choices=['R','p','S']\n",
    "    opponentchoice=random.choice(choices)\n",
    "    print (\"I chose: \" + opponentchoice)\n",
    "    if opponentchoice== str.upper(userchoice):\n",
    "        print (\"Tie!\")\n",
    "    elif opponentchoice== 'R' and userchoice.upper() == 'S':\n",
    "        print (\"Scissors beats rock, I win\")\n",
    "        continue\n",
    "    elif opponentchoice== 'S' and userchoice.upper()== 'P':\n",
    "        print (\" Scissors beats Paper! i win:) \")\n",
    "        continue\n",
    "    elif opponentchoice== 'P' and userchoice.upper()== 'R':\n",
    "        print (\"Paper beat rock, i Win! \")\n",
    "        continue\n",
    "    else:\n",
    "         print(\"you win\")"
   ]
  },
  {
   "cell_type": "code",
   "execution_count": null,
   "id": "7cce7b28",
   "metadata": {},
   "outputs": [],
   "source": []
  }
 ],
 "metadata": {
  "kernelspec": {
   "display_name": "Python 3",
   "language": "python",
   "name": "python3"
  },
  "language_info": {
   "codemirror_mode": {
    "name": "ipython",
    "version": 3
   },
   "file_extension": ".py",
   "mimetype": "text/x-python",
   "name": "python",
   "nbconvert_exporter": "python",
   "pygments_lexer": "ipython3",
   "version": "3.8.8"
  }
 },
 "nbformat": 4,
 "nbformat_minor": 5
}
